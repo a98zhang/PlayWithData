{
 "cells": [
  {
   "cell_type": "markdown",
   "metadata": {},
   "source": [
    "## NYCHA Development Data Book\n",
    "\n",
    "* the data lists all of the NYCHA's Developments alphabetically and includes essential information, such as development identification numbers, program and construction type, number of apartments and rental rooms, population, etc.\n",
    "\n",
    "* link to the documentation [NYC OpenData](https://data.cityofnewyork.us/Housing-Development/NYCHA-Development-Data-Book/evjd-dqpz)\n",
    "\n",
    "* The data is provided by New York City Housing Authority (NYCHA)."
   ]
  },
  {
   "cell_type": "code",
   "execution_count": 4,
   "metadata": {},
   "outputs": [],
   "source": [
    "import pandas as pd\n",
    "import numpy as np\n",
    "import matplotlib.pyplot as plt\n",
    "plt.style.use('ggplot')\n",
    "\n",
    "pd.set_option('display.float_format', lambda x: '%.2f' % x)\n",
    "#pd.reset_option('display.float_format')"
   ]
  },
  {
   "cell_type": "code",
   "execution_count": 5,
   "metadata": {},
   "outputs": [
    {
     "data": {
      "text/html": [
       "<div>\n",
       "<style scoped>\n",
       "    .dataframe tbody tr th:only-of-type {\n",
       "        vertical-align: middle;\n",
       "    }\n",
       "\n",
       "    .dataframe tbody tr th {\n",
       "        vertical-align: top;\n",
       "    }\n",
       "\n",
       "    .dataframe thead th {\n",
       "        text-align: right;\n",
       "    }\n",
       "</style>\n",
       "<table border=\"1\" class=\"dataframe\">\n",
       "  <thead>\n",
       "    <tr style=\"text-align: right;\">\n",
       "      <th></th>\n",
       "      <th>DATA AS OF</th>\n",
       "      <th>DEVELOPMENT</th>\n",
       "      <th>HUD AMP#</th>\n",
       "      <th>TDS#</th>\n",
       "      <th>CONSOLIDATED TDS#</th>\n",
       "      <th>DEVELOPMENT EDP#</th>\n",
       "      <th>OPERATING EDP#</th>\n",
       "      <th>HUD #</th>\n",
       "      <th>PROGRAM</th>\n",
       "      <th>METHOD</th>\n",
       "      <th>...</th>\n",
       "      <th>COMMUNITY DISTIRCT</th>\n",
       "      <th>US CONGRESSIONAL DISTRICT</th>\n",
       "      <th>NY STATE SENATE DISTRICT</th>\n",
       "      <th>NY STATE ASSEMBLY DISTRICT</th>\n",
       "      <th>NY CITY COUNCIL DISTRICT</th>\n",
       "      <th>COMPLETION DATE</th>\n",
       "      <th>FEDERALIZED DEVELOPMENT</th>\n",
       "      <th>SENIOR DEVELOPMENT</th>\n",
       "      <th>ELECTRICITY PAID BY RESIDENTS</th>\n",
       "      <th>PRIVATE MANAGEMENT</th>\n",
       "    </tr>\n",
       "  </thead>\n",
       "  <tbody>\n",
       "    <tr>\n",
       "      <th>278</th>\n",
       "      <td>1/1/2019</td>\n",
       "      <td>TODT HILL</td>\n",
       "      <td>NY005000520</td>\n",
       "      <td>042</td>\n",
       "      <td>042</td>\n",
       "      <td>583</td>\n",
       "      <td>583</td>\n",
       "      <td>NY005268A</td>\n",
       "      <td>FEDERAL</td>\n",
       "      <td>CONVENTIONAL</td>\n",
       "      <td>...</td>\n",
       "      <td>2</td>\n",
       "      <td>11</td>\n",
       "      <td>24</td>\n",
       "      <td>63</td>\n",
       "      <td>49</td>\n",
       "      <td>6/1/1950</td>\n",
       "      <td>1980/07/01-ATP 6</td>\n",
       "      <td>NaN</td>\n",
       "      <td>NaN</td>\n",
       "      <td>NaN</td>\n",
       "    </tr>\n",
       "    <tr>\n",
       "      <th>101</th>\n",
       "      <td>1/1/2019</td>\n",
       "      <td>FHA REPOSSESSED HOUSES (GROUP IV)</td>\n",
       "      <td>NY005012090</td>\n",
       "      <td>226</td>\n",
       "      <td>91</td>\n",
       "      <td>345</td>\n",
       "      <td>324</td>\n",
       "      <td>NY005159</td>\n",
       "      <td>FEDERAL</td>\n",
       "      <td>CONVENTIONAL</td>\n",
       "      <td>...</td>\n",
       "      <td>NaN</td>\n",
       "      <td>NaN</td>\n",
       "      <td>NaN</td>\n",
       "      <td>NaN</td>\n",
       "      <td>NaN</td>\n",
       "      <td>6/30/1971</td>\n",
       "      <td>NaN</td>\n",
       "      <td>NaN</td>\n",
       "      <td>NaN</td>\n",
       "      <td>NaN</td>\n",
       "    </tr>\n",
       "    <tr>\n",
       "      <th>286</th>\n",
       "      <td>1/1/2019</td>\n",
       "      <td>UNIVERSITY AVENUE REHAB</td>\n",
       "      <td>NY005013410</td>\n",
       "      <td>341</td>\n",
       "      <td>341</td>\n",
       "      <td>762</td>\n",
       "      <td>762</td>\n",
       "      <td>NY005283</td>\n",
       "      <td>FEDERAL</td>\n",
       "      <td>TURNKEY</td>\n",
       "      <td>...</td>\n",
       "      <td>5</td>\n",
       "      <td>15</td>\n",
       "      <td>29</td>\n",
       "      <td>86</td>\n",
       "      <td>14</td>\n",
       "      <td>1/31/1985</td>\n",
       "      <td>NaN</td>\n",
       "      <td>NaN</td>\n",
       "      <td>YES</td>\n",
       "      <td>YES</td>\n",
       "    </tr>\n",
       "    <tr>\n",
       "      <th>114</th>\n",
       "      <td>1/1/2019</td>\n",
       "      <td>GARVEY (GROUP A)</td>\n",
       "      <td>NY005012520</td>\n",
       "      <td>252</td>\n",
       "      <td>252</td>\n",
       "      <td>381</td>\n",
       "      <td>381</td>\n",
       "      <td>NY005166</td>\n",
       "      <td>FEDERAL</td>\n",
       "      <td>CONVENTIONAL</td>\n",
       "      <td>...</td>\n",
       "      <td>16</td>\n",
       "      <td>9</td>\n",
       "      <td>20</td>\n",
       "      <td>55</td>\n",
       "      <td>41</td>\n",
       "      <td>2/28/1975</td>\n",
       "      <td>NaN</td>\n",
       "      <td>PARTIALLY</td>\n",
       "      <td>NaN</td>\n",
       "      <td>NaN</td>\n",
       "    </tr>\n",
       "    <tr>\n",
       "      <th>109</th>\n",
       "      <td>1/1/2019</td>\n",
       "      <td>FIRST HOUSES</td>\n",
       "      <td>NY005012920</td>\n",
       "      <td>001</td>\n",
       "      <td>337</td>\n",
       "      <td>370</td>\n",
       "      <td>370</td>\n",
       "      <td>NY005181A</td>\n",
       "      <td>FEDERAL</td>\n",
       "      <td>CONVENTIONAL</td>\n",
       "      <td>...</td>\n",
       "      <td>3</td>\n",
       "      <td>12</td>\n",
       "      <td>26</td>\n",
       "      <td>74</td>\n",
       "      <td>02</td>\n",
       "      <td>5/31/1936</td>\n",
       "      <td>1972/06/29-FED TRAN</td>\n",
       "      <td>NaN</td>\n",
       "      <td>YES</td>\n",
       "      <td>NaN</td>\n",
       "    </tr>\n",
       "  </tbody>\n",
       "</table>\n",
       "<p>5 rows × 51 columns</p>\n",
       "</div>"
      ],
      "text/plain": [
       "    DATA AS OF                        DEVELOPMENT     HUD AMP# TDS#  \\\n",
       "278   1/1/2019                          TODT HILL  NY005000520  042   \n",
       "101   1/1/2019  FHA REPOSSESSED HOUSES (GROUP IV)  NY005012090  226   \n",
       "286   1/1/2019            UNIVERSITY AVENUE REHAB  NY005013410  341   \n",
       "114   1/1/2019                   GARVEY (GROUP A)  NY005012520  252   \n",
       "109   1/1/2019                       FIRST HOUSES  NY005012920  001   \n",
       "\n",
       "    CONSOLIDATED TDS# DEVELOPMENT EDP# OPERATING EDP#      HUD #  PROGRAM  \\\n",
       "278               042              583            583  NY005268A  FEDERAL   \n",
       "101                91              345            324   NY005159  FEDERAL   \n",
       "286               341              762            762   NY005283  FEDERAL   \n",
       "114               252              381            381   NY005166  FEDERAL   \n",
       "109               337              370            370  NY005181A  FEDERAL   \n",
       "\n",
       "           METHOD         ...         COMMUNITY DISTIRCT  \\\n",
       "278  CONVENTIONAL         ...                          2   \n",
       "101  CONVENTIONAL         ...                        NaN   \n",
       "286       TURNKEY         ...                          5   \n",
       "114  CONVENTIONAL         ...                         16   \n",
       "109  CONVENTIONAL         ...                          3   \n",
       "\n",
       "     US CONGRESSIONAL DISTRICT NY STATE SENATE DISTRICT  \\\n",
       "278                         11                       24   \n",
       "101                        NaN                      NaN   \n",
       "286                         15                       29   \n",
       "114                          9                       20   \n",
       "109                         12                       26   \n",
       "\n",
       "    NY STATE ASSEMBLY DISTRICT NY CITY COUNCIL DISTRICT  COMPLETION DATE  \\\n",
       "278                         63                       49         6/1/1950   \n",
       "101                        NaN                      NaN        6/30/1971   \n",
       "286                         86                       14        1/31/1985   \n",
       "114                         55                       41        2/28/1975   \n",
       "109                         74                       02        5/31/1936   \n",
       "\n",
       "     FEDERALIZED DEVELOPMENT SENIOR DEVELOPMENT ELECTRICITY PAID BY RESIDENTS  \\\n",
       "278         1980/07/01-ATP 6                NaN                           NaN   \n",
       "101                      NaN                NaN                           NaN   \n",
       "286                      NaN                NaN                           YES   \n",
       "114                      NaN          PARTIALLY                           NaN   \n",
       "109      1972/06/29-FED TRAN                NaN                           YES   \n",
       "\n",
       "     PRIVATE MANAGEMENT  \n",
       "278                 NaN  \n",
       "101                 NaN  \n",
       "286                 YES  \n",
       "114                 NaN  \n",
       "109                 NaN  \n",
       "\n",
       "[5 rows x 51 columns]"
      ]
     },
     "execution_count": 5,
     "metadata": {},
     "output_type": "execute_result"
    }
   ],
   "source": [
    "df = pd.read_csv('NYCHA_Development_Data_Book.csv')\n",
    "df.sample(5)"
   ]
  },
  {
   "cell_type": "markdown",
   "metadata": {},
   "source": [
    "### 1. Clean Data\n",
    "\n",
    "* drop unneeded/extraveneous columns"
   ]
  },
  {
   "cell_type": "code",
   "execution_count": 6,
   "metadata": {},
   "outputs": [],
   "source": [
    "df = df.drop(['DATA AS OF', 'HUD AMP#', 'TDS#', 'CONSOLIDATED TDS#', 'DEVELOPMENT EDP#', 'OPERATING EDP#', 'HUD #', \n",
    "              'NUMBER OF SECTION 8 TRANSITION APARTMENTS', 'POPULATION SECTION 8 TRANSITION',\n",
    "              'LOCATION STREET A', 'LOCATION STREET B', 'LOCATION STREET C', 'LOCATION STREET D', \n",
    "              'US CONGRESSIONAL DISTRICT', 'NY STATE SENATE DISTRICT', 'NY STATE ASSEMBLY DISTRICT', 'NY CITY COUNCIL DISTRICT', \n",
    "              'FEDERALIZED DEVELOPMENT', 'SENIOR DEVELOPMENT', 'ELECTRICITY PAID BY RESIDENTS', 'PRIVATE MANAGEMENT'], \n",
    "              axis=1)"
   ]
  },
  {
   "cell_type": "markdown",
   "metadata": {},
   "source": [
    "* type conversion to `str`"
   ]
  },
  {
   "cell_type": "code",
   "execution_count": 7,
   "metadata": {},
   "outputs": [],
   "source": [
    "text_cols = ['DEVELOPMENT', 'PROGRAM', 'METHOD', 'TYPE', 'BOROUGH', 'COMMUNITY DISTIRCT']\n",
    "for col in text_cols:\n",
    "    df[col].astype(str)"
   ]
  },
  {
   "cell_type": "markdown",
   "metadata": {},
   "source": [
    "* type conversion to `datetime`"
   ]
  },
  {
   "cell_type": "code",
   "execution_count": 8,
   "metadata": {},
   "outputs": [],
   "source": [
    "df['COMPLETION DATE'] = pd.to_datetime(df['COMPLETION DATE'], errors='coerce')"
   ]
  },
  {
   "cell_type": "markdown",
   "metadata": {},
   "source": [
    "* transform numeric columns"
   ]
  },
  {
   "cell_type": "code",
   "execution_count": 9,
   "metadata": {},
   "outputs": [],
   "source": [
    "num_cols = ['NUMBER OF CURRENT APARTMENTS', 'TOTAL NUMBER OF APARTMENTS', \n",
    "            'AVG NO R/R PER APARTMENT', 'NUMBER OF RENTAL ROOMS',\n",
    "            'POPULATION PUBLIC HOUSING', 'TOTAL POPULATION', 'TOTAL # OF FIXED INCOME HOUSEHOLD',\n",
    "           'TOTAL AREA SQ FT', 'NET DEV AREA SQ FT', 'BLDG COVERAGE SQ FT', 'CUBAGE CU FT', 'BLDG COVERAGE %',\n",
    "           'DEVELOPMENT COST', 'PER RENTAL ROOM', 'AVG MONTHLY GROSS RENT']\n",
    "for col in num_cols:\n",
    "    df[col] = df[col].map(lambda x : float(str(x).replace(',','').replace('$','').replace('%', '')) if x!=np.nan else x)\n"
   ]
  },
  {
   "cell_type": "markdown",
   "metadata": {},
   "source": [
    "### 2. Basic Analysis"
   ]
  },
  {
   "cell_type": "markdown",
   "metadata": {},
   "source": [
    "#### look into the the relationship (if any) between the occupancy completion date and the cost to develop a property per its rental room"
   ]
  },
  {
   "cell_type": "code",
   "execution_count": 10,
   "metadata": {},
   "outputs": [
    {
     "data": {
      "text/plain": [
       "[<matplotlib.lines.Line2D at 0x1c451f46400>]"
      ]
     },
     "execution_count": 10,
     "metadata": {},
     "output_type": "execute_result"
    },
    {
     "data": {
      "image/png": "[encoded data removed]",
      "text/plain": [
       "<Figure size 432x288 with 1 Axes>"
      ]
     },
     "metadata": {},
     "output_type": "display_data"
    }
   ],
   "source": [
    "plt.plot_date(df['COMPLETION DATE'], df['PER RENTAL ROOM'])"
   ]
  },
  {
   "cell_type": "markdown",
   "metadata": {},
   "source": [
    "#### Look into the summary statistics of the development density"
   ]
  },
  {
   "cell_type": "code",
   "execution_count": 11,
   "metadata": {},
   "outputs": [
    {
     "data": {
      "text/plain": [
       "count   320.00\n",
       "mean    215.28\n",
       "std     122.44\n",
       "min      10.00\n",
       "25%     125.00\n",
       "50%     199.00\n",
       "75%     279.25\n",
       "max     852.00\n",
       "Name: DENSITY, dtype: float64"
      ]
     },
     "execution_count": 11,
     "metadata": {},
     "output_type": "execute_result"
    }
   ],
   "source": [
    "stats = df['DENSITY'].describe()\n",
    "stats"
   ]
  },
  {
   "cell_type": "code",
   "execution_count": 12,
   "metadata": {},
   "outputs": [
    {
     "data": {
      "image/png": "[encoded data removed]",
      "text/plain": [
       "<Figure size 432x288 with 1 Axes>"
      ]
     },
     "metadata": {},
     "output_type": "display_data"
    }
   ],
   "source": [
    "plt.boxplot(stats)\n",
    "plt.title('Summary Statistics of the Property Density')\n",
    "plt.show()"
   ]
  },
  {
   "cell_type": "markdown",
   "metadata": {},
   "source": [
    "#### Look into the break down of boroughs and different types"
   ]
  },
  {
   "cell_type": "code",
   "execution_count": 13,
   "metadata": {},
   "outputs": [
    {
     "data": {
      "text/plain": [
       "BRONX             76\n",
       "MANHATTAN        105\n",
       "STATEN ISLAND     10\n",
       "BROOKLYN         101\n",
       "QUEENS            21\n",
       "Name: BOROUGH, dtype: int64"
      ]
     },
     "execution_count": 13,
     "metadata": {},
     "output_type": "execute_result"
    }
   ],
   "source": [
    "boroughs = df['BOROUGH'].value_counts(sort=False)\n",
    "boroughs"
   ]
  },
  {
   "cell_type": "code",
   "execution_count": 14,
   "metadata": {},
   "outputs": [
    {
     "data": {
      "image/png": "[encoded data removed]",
      "text/plain": [
       "<Figure size 432x288 with 1 Axes>"
      ]
     },
     "metadata": {},
     "output_type": "display_data"
    }
   ],
   "source": [
    "plt.bar(*zip(*boroughs.items()))\n",
    "plt.title('Distribution of Properties Across Boroughs')\n",
    "plt.show()"
   ]
  },
  {
   "cell_type": "code",
   "execution_count": 15,
   "metadata": {},
   "outputs": [
    {
     "data": {
      "text/plain": [
       "NEW CONST          226\n",
       "REHAB               55\n",
       "NEW CONST (ELD)     36\n",
       "GUT REHAB            1\n",
       "REHAB (ELD)          5\n",
       "Name: TYPE, dtype: int64"
      ]
     },
     "execution_count": 15,
     "metadata": {},
     "output_type": "execute_result"
    }
   ],
   "source": [
    "types = df['TYPE'].value_counts(sort=False)\n",
    "types"
   ]
  },
  {
   "cell_type": "code",
   "execution_count": 16,
   "metadata": {},
   "outputs": [
    {
     "data": {
      "image/png": "[encoded data removed]",
      "text/plain": [
       "<Figure size 432x288 with 1 Axes>"
      ]
     },
     "metadata": {},
     "output_type": "display_data"
    }
   ],
   "source": [
    "plt.pie(types.values, labels=types.index, autopct='%1.1f')\n",
    "plt.title('Different types of Properties (proportion)')\n",
    "plt.show()"
   ]
  }
 ],
 "metadata": {
  "kernelspec": {
   "display_name": "Python 3",
   "language": "python",
   "name": "python3"
  },
  "language_info": {
   "codemirror_mode": {
    "name": "ipython",
    "version": 3
   },
   "file_extension": ".py",
   "mimetype": "text/x-python",
   "name": "python",
   "nbconvert_exporter": "python",
   "pygments_lexer": "ipython3",
   "version": "3.7.1"
  }
 },
 "nbformat": 4,
 "nbformat_minor": 4
}
